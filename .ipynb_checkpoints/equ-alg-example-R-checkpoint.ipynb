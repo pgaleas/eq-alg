{
 "cells": [
  {
   "cell_type": "markdown",
   "metadata": {},
   "source": [
    "# Installing libraries"
   ]
  },
  {
   "cell_type": "code",
   "execution_count": 2,
   "metadata": {},
   "outputs": [],
   "source": [
    "install.packages(\"tidyverse\")\n",
    "install.packages(\"caret\")\n",
    "install.packages(\"mlbench\")"
   ]
  },
  {
   "cell_type": "markdown",
   "metadata": {},
   "source": [
    "# Calling libraries & Load data"
   ]
  },
  {
   "cell_type": "code",
   "execution_count": 2,
   "metadata": {},
   "outputs": [],
   "source": [
    "library(tidyverse)\n",
    "library(caret)\n",
    "\n",
    "# Load the data and remove NAs\n",
    "data(\"PimaIndiansDiabetes2\", package = \"mlbench\")\n",
    "PimaIndiansDiabetes2 <- na.omit(PimaIndiansDiabetes2)"
   ]
  },
  {
   "cell_type": "markdown",
   "metadata": {},
   "source": [
    "# Inspect data (training and test)"
   ]
  },
  {
   "cell_type": "code",
   "execution_count": 4,
   "metadata": {},
   "outputs": [
    {
     "data": {
      "text/html": [
       "<table>\n",
       "<thead><tr><th></th><th scope=col>pregnant</th><th scope=col>glucose</th><th scope=col>pressure</th><th scope=col>triceps</th><th scope=col>insulin</th><th scope=col>mass</th><th scope=col>pedigree</th><th scope=col>age</th><th scope=col>diabetes</th></tr></thead>\n",
       "<tbody>\n",
       "\t<tr><th scope=row>291</th><td>0    </td><td> 78  </td><td>88   </td><td>29   </td><td> 40  </td><td>36.9 </td><td>0.434</td><td>21   </td><td>neg  </td></tr>\n",
       "\t<tr><th scope=row>610</th><td>1    </td><td>111  </td><td>62   </td><td>13   </td><td>182  </td><td>24.0 </td><td>0.138</td><td>23   </td><td>neg  </td></tr>\n",
       "\t<tr><th scope=row>639</th><td>7    </td><td> 97  </td><td>76   </td><td>32   </td><td> 91  </td><td>40.9 </td><td>0.871</td><td>32   </td><td>pos  </td></tr>\n",
       "</tbody>\n",
       "</table>\n"
      ],
      "text/latex": [
       "\\begin{tabular}{r|lllllllll}\n",
       "  & pregnant & glucose & pressure & triceps & insulin & mass & pedigree & age & diabetes\\\\\n",
       "\\hline\n",
       "\t291 & 0     &  78   & 88    & 29    &  40   & 36.9  & 0.434 & 21    & neg  \\\\\n",
       "\t610 & 1     & 111   & 62    & 13    & 182   & 24.0  & 0.138 & 23    & neg  \\\\\n",
       "\t639 & 7     &  97   & 76    & 32    &  91   & 40.9  & 0.871 & 32    & pos  \\\\\n",
       "\\end{tabular}\n"
      ],
      "text/markdown": [
       "\n",
       "| <!--/--> | pregnant | glucose | pressure | triceps | insulin | mass | pedigree | age | diabetes | \n",
       "|---|---|---|\n",
       "| 291 | 0     |  78   | 88    | 29    |  40   | 36.9  | 0.434 | 21    | neg   | \n",
       "| 610 | 1     | 111   | 62    | 13    | 182   | 24.0  | 0.138 | 23    | neg   | \n",
       "| 639 | 7     |  97   | 76    | 32    |  91   | 40.9  | 0.871 | 32    | pos   | \n",
       "\n",
       "\n"
      ],
      "text/plain": [
       "    pregnant glucose pressure triceps insulin mass pedigree age diabetes\n",
       "291 0         78     88       29       40     36.9 0.434    21  neg     \n",
       "610 1        111     62       13      182     24.0 0.138    23  neg     \n",
       "639 7         97     76       32       91     40.9 0.871    32  pos     "
      ]
     },
     "metadata": {},
     "output_type": "display_data"
    }
   ],
   "source": [
    "# Inspect the data\n",
    "sample_n(PimaIndiansDiabetes2, 3)\n",
    "# Split the data into training and test set\n",
    "set.seed(123)\n",
    "training.samples <- PimaIndiansDiabetes2$diabetes %>% \n",
    "  createDataPartition(p = 0.8, list = FALSE)\n",
    "train.data  <- PimaIndiansDiabetes2[training.samples, ]\n",
    "test.data <- PimaIndiansDiabetes2[-training.samples, ]"
   ]
  },
  {
   "cell_type": "markdown",
   "metadata": {},
   "source": [
    "# Create a Generalized Linear Model (1º Stage?)"
   ]
  },
  {
   "cell_type": "code",
   "execution_count": 6,
   "metadata": {},
   "outputs": [
    {
     "data": {
      "text/plain": [
       "\n",
       "Call:\n",
       "glm(formula = diabetes ~ glucose + mass + pedigree + age, family = binomial, \n",
       "    data = train.data)\n",
       "\n",
       "Deviance Residuals: \n",
       "    Min       1Q   Median       3Q      Max  \n",
       "-2.7385  -0.6620  -0.3742   0.6772   2.6080  \n",
       "\n",
       "Coefficients:\n",
       "             Estimate Std. Error z value Pr(>|z|)    \n",
       "(Intercept) -9.561248   1.171969  -8.158 3.40e-16 ***\n",
       "glucose      0.037917   0.005565   6.814 9.49e-12 ***\n",
       "mass         0.052301   0.021361   2.448 0.014347 *  \n",
       "pedigree     0.969714   0.453823   2.137 0.032617 *  \n",
       "age          0.052888   0.015385   3.438 0.000587 ***\n",
       "---\n",
       "Signif. codes:  0 ‘***’ 0.001 ‘**’ 0.01 ‘*’ 0.05 ‘.’ 0.1 ‘ ’ 1\n",
       "\n",
       "(Dispersion parameter for binomial family taken to be 1)\n",
       "\n",
       "    Null deviance: 398.80  on 313  degrees of freedom\n",
       "Residual deviance: 280.83  on 309  degrees of freedom\n",
       "AIC: 290.83\n",
       "\n",
       "Number of Fisher Scoring iterations: 5\n"
      ]
     },
     "metadata": {},
     "output_type": "display_data"
    }
   ],
   "source": [
    "library(MASS)\n",
    "# Fit the model\n",
    "model <- glm(diabetes ~., data = train.data, family = binomial) %>%\n",
    "  stepAIC(trace = FALSE)\n",
    "# Summarize the final selected model\n",
    "summary(model)"
   ]
  },
  {
   "cell_type": "markdown",
   "metadata": {},
   "source": [
    "# Test the model accuracy"
   ]
  },
  {
   "cell_type": "code",
   "execution_count": 5,
   "metadata": {},
   "outputs": [
    {
     "data": {
      "text/html": [
       "0.794871794871795"
      ],
      "text/latex": [
       "0.794871794871795"
      ],
      "text/markdown": [
       "0.794871794871795"
      ],
      "text/plain": [
       "[1] 0.7948718"
      ]
     },
     "metadata": {},
     "output_type": "display_data"
    }
   ],
   "source": [
    "# Make predictions\n",
    "probabilities <- model %>% predict(test.data, type = \"response\")\n",
    "predicted.classes <- ifelse(probabilities > 0.5, \"pos\", \"neg\")\n",
    "# Model accuracy\n",
    "mean(predicted.classes==test.data$diabetes)"
   ]
  },
  {
   "cell_type": "markdown",
   "metadata": {},
   "source": [
    "# Model for the 2º Stage"
   ]
  },
  {
   "cell_type": "code",
   "execution_count": 7,
   "metadata": {},
   "outputs": [
    {
     "data": {
      "text/html": [
       "<dl class=dl-horizontal>\n",
       "\t<dt>(Intercept)</dt>\n",
       "\t\t<dd>-9.50371665331919</dd>\n",
       "\t<dt>pregnant</dt>\n",
       "\t\t<dd>0.0457102911359521</dd>\n",
       "\t<dt>glucose</dt>\n",
       "\t\t<dd>0.0423030716795309</dd>\n",
       "\t<dt>pressure</dt>\n",
       "\t\t<dd>-0.00700412858797066</dd>\n",
       "\t<dt>triceps</dt>\n",
       "\t\t<dd>0.0185783992754295</dd>\n",
       "\t<dt>insulin</dt>\n",
       "\t\t<dd>-0.00159228867174273</dd>\n",
       "\t<dt>mass</dt>\n",
       "\t\t<dd>0.0450169495782337</dd>\n",
       "\t<dt>pedigree</dt>\n",
       "\t\t<dd>0.968451627469557</dd>\n",
       "\t<dt>age</dt>\n",
       "\t\t<dd>0.0425572682747834</dd>\n",
       "</dl>\n"
      ],
      "text/latex": [
       "\\begin{description*}\n",
       "\\item[(Intercept)] -9.50371665331919\n",
       "\\item[pregnant] 0.0457102911359521\n",
       "\\item[glucose] 0.0423030716795309\n",
       "\\item[pressure] -0.00700412858797066\n",
       "\\item[triceps] 0.0185783992754295\n",
       "\\item[insulin] -0.00159228867174273\n",
       "\\item[mass] 0.0450169495782337\n",
       "\\item[pedigree] 0.968451627469557\n",
       "\\item[age] 0.0425572682747834\n",
       "\\end{description*}\n"
      ],
      "text/markdown": [
       "(Intercept)\n",
       ":   -9.50371665331919pregnant\n",
       ":   0.0457102911359521glucose\n",
       ":   0.0423030716795309pressure\n",
       ":   -0.00700412858797066triceps\n",
       ":   0.0185783992754295insulin\n",
       ":   -0.00159228867174273mass\n",
       ":   0.0450169495782337pedigree\n",
       ":   0.968451627469557age\n",
       ":   0.0425572682747834\n",
       "\n"
      ],
      "text/plain": [
       " (Intercept)     pregnant      glucose     pressure      triceps      insulin \n",
       "-9.503716653  0.045710291  0.042303072 -0.007004129  0.018578399 -0.001592289 \n",
       "        mass     pedigree          age \n",
       " 0.045016950  0.968451627  0.042557268 "
      ]
     },
     "metadata": {},
     "output_type": "display_data"
    },
    {
     "data": {
      "text/html": [
       "<dl class=dl-horizontal>\n",
       "\t<dt>(Intercept)</dt>\n",
       "\t\t<dd>-9.56124794345303</dd>\n",
       "\t<dt>glucose</dt>\n",
       "\t\t<dd>0.037917399277136</dd>\n",
       "\t<dt>mass</dt>\n",
       "\t\t<dd>0.0523005167470071</dd>\n",
       "\t<dt>pedigree</dt>\n",
       "\t\t<dd>0.969713546190249</dd>\n",
       "\t<dt>age</dt>\n",
       "\t\t<dd>0.0528881644300336</dd>\n",
       "</dl>\n"
      ],
      "text/latex": [
       "\\begin{description*}\n",
       "\\item[(Intercept)] -9.56124794345303\n",
       "\\item[glucose] 0.037917399277136\n",
       "\\item[mass] 0.0523005167470071\n",
       "\\item[pedigree] 0.969713546190249\n",
       "\\item[age] 0.0528881644300336\n",
       "\\end{description*}\n"
      ],
      "text/markdown": [
       "(Intercept)\n",
       ":   -9.56124794345303glucose\n",
       ":   0.037917399277136mass\n",
       ":   0.0523005167470071pedigree\n",
       ":   0.969713546190249age\n",
       ":   0.0528881644300336\n",
       "\n"
      ],
      "text/plain": [
       "(Intercept)     glucose        mass    pedigree         age \n",
       "-9.56124794  0.03791740  0.05230052  0.96971355  0.05288816 "
      ]
     },
     "metadata": {},
     "output_type": "display_data"
    },
    {
     "data": {
      "text/html": [
       "0.807692307692308"
      ],
      "text/latex": [
       "0.807692307692308"
      ],
      "text/markdown": [
       "0.807692307692308"
      ],
      "text/plain": [
       "[1] 0.8076923"
      ]
     },
     "metadata": {},
     "output_type": "display_data"
    }
   ],
   "source": [
    "full.model <- glm(diabetes ~., data = train.data, family = binomial)\n",
    "coef(full.model)\n",
    "\n",
    "step.model <- full.model %>% stepAIC(trace = FALSE)\n",
    "coef(step.model)\n",
    "\n",
    "# Make predictions\n",
    "probabilities <- full.model %>% predict(test.data, type = \"response\")\n",
    "predicted.classes <- ifelse(probabilities > 0.5, \"pos\", \"neg\")\n",
    "# Prediction accuracy\n",
    "observed.classes <- test.data$diabetes\n",
    "mean(predicted.classes == observed.classes)"
   ]
  },
  {
   "cell_type": "code",
   "execution_count": 8,
   "metadata": {},
   "outputs": [
    {
     "data": {
      "text/html": [
       "0.794871794871795"
      ],
      "text/latex": [
       "0.794871794871795"
      ],
      "text/markdown": [
       "0.794871794871795"
      ],
      "text/plain": [
       "[1] 0.7948718"
      ]
     },
     "metadata": {},
     "output_type": "display_data"
    }
   ],
   "source": [
    "# Make predictions\n",
    "probabilities <- predict(step.model, test.data, type = \"response\")\n",
    "predicted.classes <- ifelse(probabilities > 0.5, \"pos\", \"neg\")\n",
    "# Prediction accuracy\n",
    "observed.classes <- test.data$diabetes\n",
    "mean(predicted.classes == observed.classes)"
   ]
  },
  {
   "cell_type": "code",
   "execution_count": null,
   "metadata": {},
   "outputs": [],
   "source": []
  }
 ],
 "metadata": {
  "kernelspec": {
   "display_name": "R [conda env:anaconda2]",
   "language": "R",
   "name": "conda-env-anaconda2-r"
  },
  "language_info": {
   "codemirror_mode": "r",
   "file_extension": ".r",
   "mimetype": "text/x-r-source",
   "name": "R",
   "pygments_lexer": "r",
   "version": "3.5.1"
  }
 },
 "nbformat": 4,
 "nbformat_minor": 2
}
